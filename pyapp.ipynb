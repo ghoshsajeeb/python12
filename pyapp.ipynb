{
 "cells": [
  {
   "cell_type": "code",
   "execution_count": null,
   "metadata": {},
   "outputs": [],
   "source": [
    "import numpy as np\n",
    "import matplotlib.pyplot as plt\n",
    "import keras\n",
    "from keras.datasets import mnist\n",
    "from keras.models import Sequential\n",
    "from keras.layers import Dense, Conv2D, MaxPool2D, Flatten,Dropout\n",
    "(X_train,y_train),(X_test,y_test)=mnist.load_data()\n",
    "X_train.shape,y_train.shape,X_train.shape,y_test.shape\n",
    "\n",
    "def plot_input_img(i):\n",
    "    plt.imshow(X_train[i],cmap=\"binary\")\n",
    "    plt.title(y_train[i])\n",
    "    plt.show()\n",
    "\n",
    "for i in range(10):\n",
    "    plot_input_img(i)\n",
    "\n"
   ]
  },
  {
   "cell_type": "code",
   "execution_count": 10,
   "metadata": {},
   "outputs": [],
   "source": [
    "X_train=X_train.astype(np.float32)/255\n",
    "X_test=X_test.astype(np.float32)/255\n",
    "\n",
    "X_train=np.expand_dims(X_train,-1)\n",
    "X_test=np.expand_dims(X_test,-1)\n",
    "\n",
    "y_train=keras.utils.to_categorical(y_train)\n",
    "y_test=keras.utils.to_categorical(y_test)"
   ]
  },
  {
   "cell_type": "code",
   "execution_count": 11,
   "metadata": {},
   "outputs": [],
   "source": [
    "model=Sequential()\n",
    "model.add(Conv2D(32, (3,3), input_shape=(28,28,1), activation='relu'))\n",
    "model.add(MaxPool2D((2,2)))\n",
    "model.add(Conv2D(64, (3,3), activation='relu'))\n",
    "model.add(MaxPool2D((2,2)))\n",
    "model.add(Flatten())\n",
    "model.add(Dropout(0.25))\n",
    "model.add(Dense(10, activation=\"softmax\"))"
   ]
  },
  {
   "cell_type": "code",
   "execution_count": 12,
   "metadata": {},
   "outputs": [
    {
     "name": "stdout",
     "output_type": "stream",
     "text": [
      "Model: \"sequential_1\"\n",
      "_________________________________________________________________\n",
      " Layer (type)                Output Shape              Param #   \n",
      "=================================================================\n",
      " conv2d_2 (Conv2D)           (None, 26, 26, 32)        320       \n",
      "                                                                 \n",
      " max_pooling2d_2 (MaxPooling  (None, 13, 13, 32)       0         \n",
      " 2D)                                                             \n",
      "                                                                 \n",
      " conv2d_3 (Conv2D)           (None, 11, 11, 64)        18496     \n",
      "                                                                 \n",
      " max_pooling2d_3 (MaxPooling  (None, 5, 5, 64)         0         \n",
      " 2D)                                                             \n",
      "                                                                 \n",
      " flatten_1 (Flatten)         (None, 1600)              0         \n",
      "                                                                 \n",
      " dropout_1 (Dropout)         (None, 1600)              0         \n",
      "                                                                 \n",
      " dense_1 (Dense)             (None, 10)                16010     \n",
      "                                                                 \n",
      "=================================================================\n",
      "Total params: 34,826\n",
      "Trainable params: 34,826\n",
      "Non-trainable params: 0\n",
      "_________________________________________________________________\n"
     ]
    }
   ],
   "source": [
    "model.summary()"
   ]
  },
  {
   "cell_type": "code",
   "execution_count": 13,
   "metadata": {},
   "outputs": [],
   "source": [
    "model.compile(optimizer='adam',loss=keras.losses.categorical_crossentropy,metrics=['accuracy'])"
   ]
  },
  {
   "cell_type": "code",
   "execution_count": 14,
   "metadata": {},
   "outputs": [],
   "source": [
    "from keras.callbacks import EarlyStopping,ModelCheckpoint\n",
    "es=EarlyStopping(monitor='val_acc',min_delta=0.01,patience=4,verbose=1)\n",
    "mc=ModelCheckpoint(\"./bestmodel.h5\",monitor=\"val_acc\",verbose=1,save_best_only=True)\n",
    "cb=[es,mc]"
   ]
  },
  {
   "cell_type": "code",
   "execution_count": 15,
   "metadata": {},
   "outputs": [
    {
     "name": "stdout",
     "output_type": "stream",
     "text": [
      "Epoch 1/5\n",
      "1313/1313 [==============================] - ETA: 0s - loss: 0.2169 - accuracy: 0.9336WARNING:tensorflow:Early stopping conditioned on metric `val_acc` which is not available. Available metrics are: loss,accuracy,val_loss,val_accuracy\n",
      "WARNING:tensorflow:Can save best model only with val_acc available, skipping.\n",
      "1313/1313 [==============================] - 45s 33ms/step - loss: 0.2169 - accuracy: 0.9336 - val_loss: 0.0783 - val_accuracy: 0.9768\n",
      "Epoch 2/5\n",
      "1311/1313 [============================>.] - ETA: 0s - loss: 0.0741 - accuracy: 0.9772WARNING:tensorflow:Early stopping conditioned on metric `val_acc` which is not available. Available metrics are: loss,accuracy,val_loss,val_accuracy\n",
      "WARNING:tensorflow:Can save best model only with val_acc available, skipping.\n",
      "1313/1313 [==============================] - 41s 31ms/step - loss: 0.0741 - accuracy: 0.9772 - val_loss: 0.0590 - val_accuracy: 0.9821\n",
      "Epoch 3/5\n",
      "1313/1313 [==============================] - ETA: 0s - loss: 0.0539 - accuracy: 0.9830WARNING:tensorflow:Early stopping conditioned on metric `val_acc` which is not available. Available metrics are: loss,accuracy,val_loss,val_accuracy\n",
      "WARNING:tensorflow:Can save best model only with val_acc available, skipping.\n",
      "1313/1313 [==============================] - 38s 29ms/step - loss: 0.0539 - accuracy: 0.9830 - val_loss: 0.0477 - val_accuracy: 0.9848\n",
      "Epoch 4/5\n",
      "1311/1313 [============================>.] - ETA: 0s - loss: 0.0460 - accuracy: 0.9854WARNING:tensorflow:Early stopping conditioned on metric `val_acc` which is not available. Available metrics are: loss,accuracy,val_loss,val_accuracy\n",
      "WARNING:tensorflow:Can save best model only with val_acc available, skipping.\n",
      "1313/1313 [==============================] - 37s 28ms/step - loss: 0.0460 - accuracy: 0.9854 - val_loss: 0.0452 - val_accuracy: 0.9856\n",
      "Epoch 5/5\n",
      "1312/1313 [============================>.] - ETA: 0s - loss: 0.0397 - accuracy: 0.9872WARNING:tensorflow:Early stopping conditioned on metric `val_acc` which is not available. Available metrics are: loss,accuracy,val_loss,val_accuracy\n",
      "WARNING:tensorflow:Can save best model only with val_acc available, skipping.\n",
      "1313/1313 [==============================] - 39s 29ms/step - loss: 0.0397 - accuracy: 0.9872 - val_loss: 0.0407 - val_accuracy: 0.9879\n"
     ]
    }
   ],
   "source": [
    "his=model.fit(X_train,y_train,epochs=5,validation_split=0.3,callbacks=cb)"
   ]
  },
  {
   "cell_type": "code",
   "execution_count": 18,
   "metadata": {},
   "outputs": [],
   "source": [
    "model_S=keras.models.load_model(\"D:/pythonApp/bestmodel.h5\")"
   ]
  },
  {
   "cell_type": "code",
   "execution_count": 19,
   "metadata": {},
   "outputs": [
    {
     "name": "stdout",
     "output_type": "stream",
     "text": [
      "313/313 [==============================] - 4s 8ms/step - loss: 0.0335 - accuracy: 0.9891\n",
      "the model accuracy is 0.9890999794006348\n"
     ]
    }
   ],
   "source": [
    "score=model_S.evaluate(X_test,y_test)\n",
    "print(f\"the model accuracy is {score[1]}\")\n"
   ]
  }
 ],
 "metadata": {
  "kernelspec": {
   "display_name": "Python 3.9.7 64-bit",
   "language": "python",
   "name": "python3"
  },
  "language_info": {
   "codemirror_mode": {
    "name": "ipython",
    "version": 3
   },
   "file_extension": ".py",
   "mimetype": "text/x-python",
   "name": "python",
   "nbconvert_exporter": "python",
   "pygments_lexer": "ipython3",
   "version": "3.9.7"
  },
  "orig_nbformat": 4,
  "vscode": {
   "interpreter": {
    "hash": "b671c20432fcd147198c92e7f072af9e705f087eb990bee22b07f08caab9f630"
   }
  }
 },
 "nbformat": 4,
 "nbformat_minor": 2
}
